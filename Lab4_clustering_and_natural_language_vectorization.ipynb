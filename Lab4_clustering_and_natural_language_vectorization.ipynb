{
 "cells": [
  {
   "cell_type": "markdown",
   "metadata": {},
   "source": [
    "## Lab 4: Clustering and Natural Language Vectorization\n",
    "\n",
    "#### CSC 215 Artificial Intelligence (Spring 2019)\n",
    "\n",
    "#### Dr. Haiquan Chen, California State University, Sacramento"
   ]
  },
  {
   "cell_type": "markdown",
   "metadata": {},
   "source": [
    "** California State University, Sacramento **\n",
    "\n",
    "** CSC 177 (Spring 2019)**\n",
    "\n",
    "** Dr. Haiquan Chen **"
   ]
  },
  {
   "cell_type": "code",
   "execution_count": 1,
   "metadata": {},
   "outputs": [],
   "source": [
    "import numpy as np\n",
    "import pandas as pd\n",
    "import matplotlib.pyplot as plt\n",
    "\n",
    "%matplotlib inline"
   ]
  },
  {
   "cell_type": "markdown",
   "metadata": {},
   "source": [
    "## Clustering"
   ]
  },
  {
   "cell_type": "markdown",
   "metadata": {},
   "source": [
    "Scikit-learn has a huge set of tools for clustering. These are in sklearn.cluster. http://scikit-learn.org/stable/modules/clustering.html\n",
    "\n",
    "### There are 3 functions in all the clustering classes,\n",
    "<ul>\n",
    "<li> fit(), \n",
    "<li> predict(),\n",
    "<li> fit_predict(). \n",
    "</ul>\n",
    "\n",
    "#### fit() builds the model from the training data (e.g. for kmeans, it finds the centroids),\n",
    "\n",
    "#### predict() assigns labels to the data after building the model, and\n",
    "\n",
    "#### fit_predict() does both at the same data (e.g in kmeans, it finds the centroids and assigns the labels to the dataset)."
   ]
  },
  {
   "cell_type": "markdown",
   "metadata": {},
   "source": [
    "### 1) K-means clustering \n",
    "\n",
    "More on the k-means clustering here: http://scikit-learn.org/stable/modules/generated/sklearn.cluster.KMeans.html#sklearn.cluster.KMeans\n"
   ]
  },
  {
   "cell_type": "code",
   "execution_count": 2,
   "metadata": {
    "scrolled": true
   },
   "outputs": [
    {
     "name": "stdout",
     "output_type": "stream",
     "text": [
      "\n",
      " Cluster Centroids\n",
      "[[0.   0.15]\n",
      " [0.9  0.9 ]\n",
      " [0.5  0.5 ]]\n",
      "\n",
      "Printing cluster assignment:\n",
      "[0 0 2 2 1 1]\n",
      "\n",
      "\n",
      "The total error of the clustering is:  0.10499999999999998\n"
     ]
    }
   ],
   "source": [
    "import sklearn.cluster as sk_cluster\n",
    "\n",
    "X = [[0, 0], [0, 0.3], [0.4, 0.5], [0.6, 0.5], [0.8, 0.8], [1, 1]]\n",
    "\n",
    "kmeans = sk_cluster.KMeans(n_clusters=3, n_init=10, max_iter=300)  \n",
    "\n",
    "# n_init: Number of time the k-means algorithm will be run \n",
    "# max_iter : int, default: 300\n",
    "\n",
    "km_labels = kmeans.fit_predict(X)\n",
    "\n",
    "print ('\\n Cluster Centroids')\n",
    "centroids = kmeans.cluster_centers_\n",
    "print (centroids)\n",
    "\n",
    "print ('\\nPrinting cluster assignment:')\n",
    "print(km_labels)\n",
    "\n",
    "\n",
    "print('\\n')\n",
    "error = kmeans.inertia_       #SSE; Sum of squared distances of samples to their closest cluster center.\n",
    "print (\"The total error of the clustering is: \", error)"
   ]
  },
  {
   "cell_type": "markdown",
   "metadata": {},
   "source": [
    "### Find the best K value"
   ]
  },
  {
   "cell_type": "code",
   "execution_count": 3,
   "metadata": {},
   "outputs": [
    {
     "data": {
      "text/plain": [
       "Text(0, 0.5, 'SSE')"
      ]
     },
     "execution_count": 3,
     "metadata": {},
     "output_type": "execute_result"
    },
    {
     "data": {
      "image/png": "[encoded data removed]",
      "text/plain": [
       "<Figure size 432x288 with 1 Axes>"
      ]
     },
     "metadata": {
      "needs_background": "light"
     },
     "output_type": "display_data"
    }
   ],
   "source": [
    "#### Find the best K value\n",
    "\n",
    "error = np.zeros(7)\n",
    "for k in range(1,7):\n",
    "    kmeans = sk_cluster.KMeans(init='k-means++', n_clusters=k, n_init=10)\n",
    "    kmeans.fit_predict(X)\n",
    "    error[k] = kmeans.inertia_\n",
    "\n",
    "plt.plot(range(1, 7), error[1:])\n",
    "plt.xlabel('Number of clusters')\n",
    "plt.ylabel('SSE')"
   ]
  },
  {
   "cell_type": "markdown",
   "metadata": {},
   "source": [
    "## Vectorizing natural lauguage (text) data\n",
    "\n",
    "Python offers a set of tools for extracting features:http://scikit-learn.org/stable/modules/feature_extraction.html"
   ]
  },
  {
   "cell_type": "markdown",
   "metadata": {},
   "source": [
    "### CountVectorizer: transforms text into a \"sparse matrix\" where rows are text and columns are words, and values are occurrence values."
   ]
  },
  {
   "cell_type": "code",
   "execution_count": 6,
   "metadata": {},
   "outputs": [
    {
     "name": "stdout",
     "output_type": "stream",
     "text": [
      "<class 'scipy.sparse.csr.csr_matrix'>\n",
      "[[0 1 1 1 0 0 1 0 1]\n",
      " [0 1 0 1 0 2 1 0 1]\n",
      " [1 0 0 0 1 0 1 1 0]\n",
      " [0 1 3 1 0 0 1 0 1]]\n"
     ]
    }
   ],
   "source": [
    "import sklearn.feature_extraction.text as sk_text\n",
    "\n",
    "vectorizer = sk_text.CountVectorizer(min_df=1)\n",
    "#vectorizer = sk_text.CountVectorizer(min_df=1, stop_words = 'english')\n",
    "\n",
    "#min_df: ignore terms that have a document frequency < min_df.\n",
    "\n",
    "corpus = ['This is the first document.',\n",
    "           'this is the second second document.',\n",
    "           'And the third one.',\n",
    "           'Is this the first first first document?',\n",
    "          ]\n",
    "\n",
    "matrix = vectorizer.fit_transform(corpus)\n",
    "\n",
    "print(type(matrix))          # Compressed Sparse Row matrix\n",
    "print(matrix.toarray())        #  convert it to numpy array"
   ]
  },
  {
   "cell_type": "code",
   "execution_count": 7,
   "metadata": {},
   "outputs": [
    {
     "name": "stdout",
     "output_type": "stream",
     "text": [
      "['and', 'document', 'first', 'is', 'one', 'second', 'the', 'third', 'this']\n"
     ]
    }
   ],
   "source": [
    "print(vectorizer.get_feature_names())"
   ]
  },
  {
   "cell_type": "markdown",
   "metadata": {},
   "source": [
    "### TfIdfVectorizer: transforms text into a \"sparse matrix\" where rows are text and columns are words, and values are the tf-dif values. \n",
    "\n",
    "More here: http://scikit-learn.org/stable/modules/generated/sklearn.feature_extraction.text.TfidfVectorizer.html#sklearn.feature_extraction.text.TfidfVectorizer"
   ]
  },
  {
   "cell_type": "code",
   "execution_count": 8,
   "metadata": {},
   "outputs": [
    {
     "name": "stdout",
     "output_type": "stream",
     "text": [
      "<class 'scipy.sparse.csr.csr_matrix'>\n",
      "[[0.         0.43877674 0.54197657 0.43877674 0.         0.\n",
      "  0.35872874 0.         0.43877674]\n",
      " [0.         0.27230147 0.         0.27230147 0.         0.85322574\n",
      "  0.22262429 0.         0.27230147]\n",
      " [0.55280532 0.         0.         0.         0.55280532 0.\n",
      "  0.28847675 0.55280532 0.        ]\n",
      " [0.         0.23973261 0.88835239 0.23973261 0.         0.\n",
      "  0.19599711 0.         0.23973261]]\n"
     ]
    }
   ],
   "source": [
    "vectorizer = sk_text.TfidfVectorizer(\n",
    "                             #stop_words='english',\n",
    "                             max_features = 1000,\n",
    "                             min_df=1)\n",
    "\n",
    "\n",
    "#max_features:  build a vocabulary that only consider the top max_features features ordered by term frequency across the corpus.\n",
    "\n",
    "matrix = vectorizer.fit_transform(corpus)\n",
    "\n",
    "print(type(matrix))          # Compressed Sparse Row matrix\n",
    "print(matrix.toarray())        #  convert it to numpy array\n"
   ]
  },
  {
   "cell_type": "code",
   "execution_count": 9,
   "metadata": {},
   "outputs": [
    {
     "name": "stdout",
     "output_type": "stream",
     "text": [
      "['and', 'document', 'first', 'is', 'one', 'second', 'the', 'third', 'this']\n"
     ]
    }
   ],
   "source": [
    "print(vectorizer.get_feature_names())"
   ]
  },
  {
   "cell_type": "code",
   "execution_count": 10,
   "metadata": {},
   "outputs": [
    {
     "name": "stdout",
     "output_type": "stream",
     "text": [
      "<class 'scipy.sparse.csr.csr_matrix'>\n",
      "[[0.43877674 0.54197657 0.43877674 0.35872874 0.43877674]\n",
      " [0.52210862 0.         0.52210862 0.42685801 0.52210862]\n",
      " [0.         0.         0.         1.         0.        ]\n",
      " [0.23973261 0.88835239 0.23973261 0.19599711 0.23973261]]\n"
     ]
    }
   ],
   "source": [
    "vectorizer = sk_text.TfidfVectorizer(#stop_words='english',\n",
    "                             #max_features = 1000,\n",
    "                             min_df=2, \n",
    "                             max_df=500\n",
    "                             )\n",
    "\n",
    "#min_df: ignore terms that have a document frequency < min_df.\n",
    "#max_df: ignore terms that have a document frequency > max_df\n",
    "\n",
    "\n",
    "matrix = vectorizer.fit_transform(corpus)\n",
    "print(type(matrix))               # Compressed Sparse Row matrix\n",
    "\n",
    "tfidf_data = matrix.toarray()     #  convert it to numpy array\n",
    "\n",
    "print(tfidf_data)"
   ]
  },
  {
   "cell_type": "code",
   "execution_count": 11,
   "metadata": {},
   "outputs": [
    {
     "name": "stdout",
     "output_type": "stream",
     "text": [
      "['document', 'first', 'is', 'the', 'this']\n"
     ]
    }
   ],
   "source": [
    "print(vectorizer.get_feature_names())"
   ]
  },
  {
   "cell_type": "markdown",
   "metadata": {},
   "source": [
    "### Once you vectorize the text, you can send the data to models\n",
    "\n",
    "An example of what we want to do:\n",
    "http://scikit-learn.org/stable/auto_examples/text/document_clustering.html"
   ]
  },
  {
   "cell_type": "code",
   "execution_count": 12,
   "metadata": {},
   "outputs": [
    {
     "data": {
      "text/plain": [
       "array([[0.43877674, 0.54197657, 0.43877674, 0.35872874, 0.43877674],\n",
       "       [0.52210862, 0.        , 0.52210862, 0.42685801, 0.52210862],\n",
       "       [0.        , 0.        , 0.        , 1.        , 0.        ],\n",
       "       [0.23973261, 0.88835239, 0.23973261, 0.19599711, 0.23973261]])"
      ]
     },
     "execution_count": 12,
     "metadata": {},
     "output_type": "execute_result"
    }
   ],
   "source": [
    "tfidf_data"
   ]
  },
  {
   "cell_type": "code",
   "execution_count": 13,
   "metadata": {},
   "outputs": [
    {
     "name": "stdout",
     "output_type": "stream",
     "text": [
      "Cluster labels\n",
      "[0 0 1 0]\n",
      "Cluster Centroids\n",
      "[[0.40020599 0.47677632 0.40020599 0.32719462 0.40020599]\n",
      " [0.         0.         0.         1.         0.        ]]\n",
      "The total error of the clustering is:  0.5554005528322997\n"
     ]
    }
   ],
   "source": [
    "import sklearn.cluster as sk_cluster\n",
    "kmeans = sk_cluster.KMeans(n_clusters=2, max_iter=100, n_init=10)\n",
    "\n",
    "kmeans_labels = kmeans.fit_predict(tfidf_data)\n",
    "\n",
    "print ('Cluster labels')\n",
    "print(kmeans_labels)\n",
    "\n",
    "centroids = kmeans.cluster_centers_\n",
    "print ('Cluster Centroids')\n",
    "print(centroids)\n",
    "\n",
    "error = kmeans.inertia_\n",
    "print (\"The total error of the clustering is: \", error)\n"
   ]
  },
  {
   "cell_type": "markdown",
   "metadata": {},
   "source": [
    "## Clustering analysis:  identify the top terms (i.e., the terms with the highest tfidf scores) per cluster\n",
    "\n",
    "### Get a list of words sorted by their TFIDF scores in descending order in each cluster. "
   ]
  },
  {
   "cell_type": "code",
   "execution_count": 14,
   "metadata": {},
   "outputs": [
    {
     "name": "stdout",
     "output_type": "stream",
     "text": [
      "[[0.40020599 0.47677632 0.40020599 0.32719462 0.40020599]\n",
      " [0.         0.         0.         1.         0.        ]]\n"
     ]
    }
   ],
   "source": [
    "print(kmeans.cluster_centers_)"
   ]
  },
  {
   "cell_type": "markdown",
   "metadata": {},
   "source": [
    "### argsort() returns the indices that would sort an array in ascending order"
   ]
  },
  {
   "cell_type": "code",
   "execution_count": 15,
   "metadata": {},
   "outputs": [
    {
     "name": "stdout",
     "output_type": "stream",
     "text": [
      "[[3 0 2 4 1]\n",
      " [0 1 2 4 3]]\n"
     ]
    }
   ],
   "source": [
    "asc_order_centroids = kmeans.cluster_centers_.argsort()    # argsort() returns the indices that would sort an array.\n",
    "print(asc_order_centroids)"
   ]
  },
  {
   "cell_type": "markdown",
   "metadata": {},
   "source": [
    "### Next we got the indices that would sort an array in descending order"
   ]
  },
  {
   "cell_type": "code",
   "execution_count": 16,
   "metadata": {},
   "outputs": [
    {
     "name": "stdout",
     "output_type": "stream",
     "text": [
      "[[1 4 2 0 3]\n",
      " [3 4 2 1 0]]\n"
     ]
    }
   ],
   "source": [
    "des_order_centroids = asc_order_centroids[:,::-1]     #  get the indices that sort array in descending order\n",
    "print(des_order_centroids)"
   ]
  },
  {
   "cell_type": "markdown",
   "metadata": {},
   "source": [
    "### Then we print each words based on the indices we just got"
   ]
  },
  {
   "cell_type": "code",
   "execution_count": 17,
   "metadata": {},
   "outputs": [
    {
     "name": "stdout",
     "output_type": "stream",
     "text": [
      "Cluster: 0\n",
      "first\n",
      "this\n",
      "is\n",
      "document\n",
      "the\n",
      "\n",
      "Cluster: 1\n",
      "the\n",
      "this\n",
      "is\n",
      "first\n",
      "document\n",
      "\n"
     ]
    }
   ],
   "source": [
    "terms = vectorizer.get_feature_names()\n",
    "#print(terms, '\\n')\n",
    "\n",
    "for i in range(2):\n",
    "    print (\"Cluster:\", i)\n",
    "    for ind in des_order_centroids[i, :]:\n",
    "        print (terms[ind])\n",
    "    print()    "
   ]
  },
  {
   "cell_type": "markdown",
   "metadata": {},
   "source": [
    "##  Donot forget to perform <font color='red'> model evaluation </font> to know how good the model is"
   ]
  },
  {
   "cell_type": "code",
   "execution_count": 18,
   "metadata": {},
   "outputs": [
    {
     "name": "stdout",
     "output_type": "stream",
     "text": [
      "Cluster labels\n",
      "[0 0 1 0]\n"
     ]
    }
   ],
   "source": [
    "print ('Cluster labels')\n",
    "print(kmeans_labels)"
   ]
  },
  {
   "cell_type": "code",
   "execution_count": 19,
   "metadata": {},
   "outputs": [],
   "source": [
    "true = np.array([0, 0, 1, 1])   # ground truth"
   ]
  },
  {
   "cell_type": "code",
   "execution_count": 20,
   "metadata": {},
   "outputs": [],
   "source": [
    "import sklearn.metrics as metrics"
   ]
  },
  {
   "cell_type": "code",
   "execution_count": 21,
   "metadata": {},
   "outputs": [
    {
     "name": "stdout",
     "output_type": "stream",
     "text": [
      "[[2 0]\n",
      " [1 1]]\n"
     ]
    }
   ],
   "source": [
    "confusion = metrics.confusion_matrix(true, kmeans.labels_, labels=[0, 1])   # first row: 0 ; second row: 1\n",
    "print(confusion)"
   ]
  },
  {
   "cell_type": "code",
   "execution_count": 22,
   "metadata": {},
   "outputs": [
    {
     "data": {
      "text/plain": [
       "0.8333333333333333"
      ]
     },
     "execution_count": 22,
     "metadata": {},
     "output_type": "execute_result"
    }
   ],
   "source": [
    "metrics.precision_score(true, kmeans.labels_, average='weighted') # weighted: the average precision of all clusters is returned\n"
   ]
  },
  {
   "cell_type": "code",
   "execution_count": 23,
   "metadata": {},
   "outputs": [
    {
     "data": {
      "text/plain": [
       "0.75"
      ]
     },
     "execution_count": 23,
     "metadata": {},
     "output_type": "execute_result"
    }
   ],
   "source": [
    "metrics.recall_score(true, kmeans.labels_, average='weighted')  # weighted: the average recall of all clusters is returned\n"
   ]
  },
  {
   "cell_type": "code",
   "execution_count": 24,
   "metadata": {},
   "outputs": [
    {
     "data": {
      "text/plain": [
       "0.7333333333333334"
      ]
     },
     "execution_count": 24,
     "metadata": {},
     "output_type": "execute_result"
    }
   ],
   "source": [
    "metrics.f1_score(true, kmeans.labels_, average= 'weighted')     # weighted: the average f1 of all clusters is returned\n"
   ]
  },
  {
   "cell_type": "markdown",
   "metadata": {},
   "source": [
    "## Another example:"
   ]
  },
  {
   "cell_type": "code",
   "execution_count": 25,
   "metadata": {},
   "outputs": [],
   "source": [
    "document_0 = \"Japan's prime minister, Shinzo Abe, is working towards healing the economic turmoil in his own country for his view on the future of his people.\"\n",
    "document_1 = \"Vladimir Putin is working hard to fix the economy in Russia as the Ruble has tumbled.\"\n",
    "document_2 = \"What's the future of Abenomics? We asked Shinzo Abe for his views\"\n",
    "document_3 = \"Obama has eased sanctions on Cuba while accelerating those against the Russian Economy, even as the Ruble's value falls almost daily.\"\n",
    "document_4 = \"Vladimir Putin is riding a horse while hunting deer. Vladimir Putin always seems so serious about things - even riding horses. Is he crazy?\"\n",
    "\n",
    "\n",
    "corpus = [document_0, document_1, document_2, document_3, document_4]"
   ]
  },
  {
   "cell_type": "code",
   "execution_count": 26,
   "metadata": {},
   "outputs": [
    {
     "name": "stdout",
     "output_type": "stream",
     "text": [
      "[[0.23684538 0.         0.         0.         0.29356375 0.\n",
      "  0.         0.         0.         0.         0.29356375 0.\n",
      "  0.         0.         0.23684538 0.         0.29356375 0.\n",
      "  0.         0.         0.29356375 0.29356375 0.         0.29356375\n",
      "  0.29356375 0.         0.         0.         0.         0.\n",
      "  0.         0.23684538 0.         0.         0.29356375 0.\n",
      "  0.29356375 0.         0.         0.23684538]\n",
      " [0.         0.         0.         0.         0.         0.\n",
      "  0.         0.         0.         0.         0.         0.29954105\n",
      "  0.         0.37127341 0.         0.37127341 0.         0.\n",
      "  0.         0.         0.         0.         0.         0.\n",
      "  0.         0.29954105 0.         0.29954105 0.37127341 0.\n",
      "  0.         0.         0.         0.37127341 0.         0.\n",
      "  0.         0.         0.29954105 0.29954105]\n",
      " [0.36252618 0.44934185 0.         0.44934185 0.         0.\n",
      "  0.         0.         0.         0.         0.         0.\n",
      "  0.         0.         0.36252618 0.         0.         0.\n",
      "  0.         0.         0.         0.         0.         0.\n",
      "  0.         0.         0.         0.         0.         0.\n",
      "  0.         0.36252618 0.         0.         0.         0.\n",
      "  0.         0.44934185 0.         0.        ]\n",
      " [0.         0.         0.31156077 0.         0.         0.\n",
      "  0.31156077 0.31156077 0.         0.31156077 0.         0.25136527\n",
      "  0.31156077 0.         0.         0.         0.         0.\n",
      "  0.         0.         0.         0.         0.31156077 0.\n",
      "  0.         0.         0.         0.25136527 0.         0.31156077\n",
      "  0.31156077 0.         0.         0.         0.         0.31156077\n",
      "  0.         0.         0.         0.        ]\n",
      " [0.         0.         0.         0.         0.         0.25643278\n",
      "  0.         0.         0.25643278 0.         0.         0.\n",
      "  0.         0.         0.         0.         0.         0.25643278\n",
      "  0.25643278 0.25643278 0.         0.         0.         0.\n",
      "  0.         0.4137767  0.51286555 0.         0.         0.\n",
      "  0.         0.         0.25643278 0.         0.         0.\n",
      "  0.         0.         0.4137767  0.        ]]\n",
      "['abe', 'abenomics', 'accelerating', 'asked', 'country', 'crazy', 'cuba', 'daily', 'deer', 'eased', 'economic', 'economy', 'falls', 'fix', 'future', 'hard', 'healing', 'horse', 'horses', 'hunting', 'japan', 'minister', 'obama', 'people', 'prime', 'putin', 'riding', 'ruble', 'russia', 'russian', 'sanctions', 'shinzo', 'things', 'tumbled', 'turmoil', 'value', 'view', 'views', 'vladimir', 'working']\n",
      "40\n"
     ]
    }
   ],
   "source": [
    "vectorizer = sk_text.TfidfVectorizer(stop_words='english',\n",
    "                             max_features = 100,\n",
    "                             min_df=1, \n",
    "                             #max_df=5\n",
    "                             )\n",
    "\n",
    "#min_df: ignore terms that have a document frequency < min_df.\n",
    "#max_df: ignore terms that have a document frequency > max_df\n",
    "\n",
    "\n",
    "matrix = vectorizer.fit_transform(corpus)\n",
    "\n",
    "tfidf_data = matrix.toarray()     #  convert it to numpy array\n",
    "\n",
    "print(tfidf_data)\n",
    "print(vectorizer.get_feature_names())\n",
    "print(len(vectorizer.get_feature_names()))"
   ]
  },
  {
   "cell_type": "code",
   "execution_count": 27,
   "metadata": {},
   "outputs": [
    {
     "name": "stdout",
     "output_type": "stream",
     "text": [
      "Cluster labels\n",
      "[1 0 1 0 0]\n",
      "Cluster Centroids\n",
      "[[ 0.00000000e+00 -1.38777878e-17  1.03853589e-01 -1.38777878e-17\n",
      "   0.00000000e+00  8.54775921e-02  1.03853589e-01  1.03853589e-01\n",
      "   8.54775921e-02  1.03853589e-01  0.00000000e+00  1.83635439e-01\n",
      "   1.03853589e-01  1.23757804e-01  0.00000000e+00  1.23757804e-01\n",
      "   0.00000000e+00  8.54775921e-02  8.54775921e-02  8.54775921e-02\n",
      "   0.00000000e+00  0.00000000e+00  1.03853589e-01  0.00000000e+00\n",
      "   0.00000000e+00  2.37772584e-01  1.70955184e-01  1.83635439e-01\n",
      "   1.23757804e-01  1.03853589e-01  1.03853589e-01  0.00000000e+00\n",
      "   8.54775921e-02  1.23757804e-01  0.00000000e+00  1.03853589e-01\n",
      "   0.00000000e+00 -1.38777878e-17  2.37772584e-01  9.98470174e-02]\n",
      " [ 2.99685781e-01  2.24670927e-01  0.00000000e+00  2.24670927e-01\n",
      "   1.46781873e-01  0.00000000e+00  0.00000000e+00  0.00000000e+00\n",
      "   0.00000000e+00  0.00000000e+00  1.46781873e-01  0.00000000e+00\n",
      "   0.00000000e+00  0.00000000e+00  2.99685781e-01  0.00000000e+00\n",
      "   1.46781873e-01  0.00000000e+00  0.00000000e+00  0.00000000e+00\n",
      "   1.46781873e-01  1.46781873e-01  0.00000000e+00  1.46781873e-01\n",
      "   1.46781873e-01  0.00000000e+00  0.00000000e+00  0.00000000e+00\n",
      "   0.00000000e+00  0.00000000e+00  0.00000000e+00  2.99685781e-01\n",
      "   0.00000000e+00  0.00000000e+00  1.46781873e-01  0.00000000e+00\n",
      "   1.46781873e-01  2.24670927e-01  0.00000000e+00  1.18422691e-01]]\n",
      "The total error of the clustering is:  2.476762280363962\n"
     ]
    }
   ],
   "source": [
    "import sklearn.cluster as sk_cluster\n",
    "kmeans = sk_cluster.KMeans(n_clusters=2, max_iter=100, n_init=10)\n",
    "\n",
    "kmeans_labels = kmeans.fit_predict(tfidf_data)\n",
    "\n",
    "print ('Cluster labels')\n",
    "print(kmeans_labels)\n",
    "\n",
    "centroids = kmeans.cluster_centers_\n",
    "print ('Cluster Centroids')\n",
    "print(centroids)\n",
    "\n",
    "error = kmeans.inertia_\n",
    "print (\"The total error of the clustering is: \", error)"
   ]
  },
  {
   "cell_type": "code",
   "execution_count": 28,
   "metadata": {},
   "outputs": [],
   "source": [
    "asc_order_centroids = kmeans.cluster_centers_.argsort()    # argsort() returns the indices that would sort an array.\n",
    "\n",
    "des_order_centroids = asc_order_centroids[:,::-1]     #  get the indices that sort array in descending order"
   ]
  },
  {
   "cell_type": "code",
   "execution_count": 29,
   "metadata": {},
   "outputs": [
    {
     "name": "stdout",
     "output_type": "stream",
     "text": [
      "All the terms:\n",
      "['abe', 'abenomics', 'accelerating', 'asked', 'country', 'crazy', 'cuba', 'daily', 'deer', 'eased', 'economic', 'economy', 'falls', 'fix', 'future', 'hard', 'healing', 'horse', 'horses', 'hunting', 'japan', 'minister', 'obama', 'people', 'prime', 'putin', 'riding', 'ruble', 'russia', 'russian', 'sanctions', 'shinzo', 'things', 'tumbled', 'turmoil', 'value', 'view', 'views', 'vladimir', 'working'] \n",
      "\n",
      "Cluster: 0\n",
      "vladimir\n",
      "putin\n",
      "ruble\n",
      "economy\n",
      "riding\n",
      "russia\n",
      "fix\n",
      "hard\n",
      "tumbled\n",
      "sanctions\n",
      "russian\n",
      "daily\n",
      "cuba\n",
      "eased\n",
      "value\n",
      "obama\n",
      "falls\n",
      "accelerating\n",
      "working\n",
      "deer\n",
      "horse\n",
      "crazy\n",
      "hunting\n",
      "things\n",
      "horses\n",
      "healing\n",
      "prime\n",
      "country\n",
      "view\n",
      "turmoil\n",
      "shinzo\n",
      "economic\n",
      "people\n",
      "minister\n",
      "japan\n",
      "future\n",
      "abe\n",
      "asked\n",
      "views\n",
      "abenomics\n",
      "\n",
      "Cluster: 1\n",
      "abe\n",
      "shinzo\n",
      "future\n",
      "views\n",
      "abenomics\n",
      "asked\n",
      "prime\n",
      "view\n",
      "turmoil\n",
      "country\n",
      "economic\n",
      "healing\n",
      "japan\n",
      "minister\n",
      "people\n",
      "working\n",
      "putin\n",
      "obama\n",
      "value\n",
      "accelerating\n",
      "tumbled\n",
      "things\n",
      "crazy\n",
      "cuba\n",
      "daily\n",
      "deer\n",
      "eased\n",
      "sanctions\n",
      "economy\n",
      "falls\n",
      "fix\n",
      "russian\n",
      "hard\n",
      "russia\n",
      "horse\n",
      "horses\n",
      "vladimir\n",
      "ruble\n",
      "riding\n",
      "hunting\n",
      "\n"
     ]
    }
   ],
   "source": [
    "terms = vectorizer.get_feature_names()\n",
    "print (\"All the terms:\")\n",
    "print(terms, '\\n')\n",
    "\n",
    "for i in range(2):\n",
    "    print (\"Cluster:\", i)\n",
    "    for ind in des_order_centroids[i, :]:\n",
    "        print (terms[ind])\n",
    "    print()  "
   ]
  }
 ],
 "metadata": {
  "kernelspec": {
   "display_name": "Python 3",
   "language": "python",
   "name": "python3"
  },
  "language_info": {
   "codemirror_mode": {
    "name": "ipython",
    "version": 3
   },
   "file_extension": ".py",
   "mimetype": "text/x-python",
   "name": "python",
   "nbconvert_exporter": "python",
   "pygments_lexer": "ipython3",
   "version": "3.6.5"
  }
 },
 "nbformat": 4,
 "nbformat_minor": 1
}
